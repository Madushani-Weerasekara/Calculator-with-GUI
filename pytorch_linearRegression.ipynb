{
  "nbformat": 4,
  "nbformat_minor": 0,
  "metadata": {
    "colab": {
      "provenance": [],
      "name": "pytorch-linearRegression.ipynb",
      "authorship_tag": "ABX9TyOSBw5a+kN6BQFecmeqiC2y",
      "include_colab_link": true
    },
    "kernelspec": {
      "name": "python3",
      "display_name": "Python 3"
    },
    "language_info": {
      "name": "python"
    }
  },
  "cells": [
    {
      "cell_type": "markdown",
      "metadata": {
        "id": "view-in-github",
        "colab_type": "text"
      },
      "source": [
        "<a href=\"https://colab.research.google.com/github/Madushani-Weerasekara/Calculator-with-GUI/blob/main/pytorch_linearRegression.ipynb\" target=\"_parent\"><img src=\"https://colab.research.google.com/assets/colab-badge.svg\" alt=\"Open In Colab\"/></a>"
      ]
    },
    {
      "cell_type": "code",
      "execution_count": 10,
      "metadata": {
        "id": "VPGw3O04_V9Q"
      },
      "outputs": [],
      "source": [
        "import torch\n",
        "import torch.nn as nn\n",
        "import numpy as np\n",
        "import matplotlib.pyplot as plt"
      ]
    },
    {
      "cell_type": "code",
      "source": [
        "# We would like to generate 20 data points\n",
        "N = 20\n",
        "\n",
        "# Random data on th X-axes in(-5,5)\n",
        "x = np.random.random(N)*10-5\n",
        "\n",
        "# A line plus some noise\n",
        "y = 0.5*x-1+ np.random.random(N)\n"
      ],
      "metadata": {
        "id": "6NupKGhYFTAm"
      },
      "execution_count": 11,
      "outputs": []
    },
    {
      "cell_type": "code",
      "source": [
        "# Plot the data\n",
        "plt.scatter(x,y);"
      ],
      "metadata": {
        "colab": {
          "base_uri": "https://localhost:8080/",
          "height": 430
        },
        "id": "tAPRDbbUHNZx",
        "outputId": "f53a7f09-66be-4d21-8eb1-974d6c7318eb"
      },
      "execution_count": 12,
      "outputs": [
        {
          "output_type": "display_data",
          "data": {
            "text/plain": [
              "<Figure size 640x480 with 1 Axes>"
            ],
            "image/png": "[encoded data removed]"
          },
          "metadata": {}
        }
      ]
    },
    {
      "cell_type": "code",
      "source": [
        "# Create the linear regression model\n",
        "model = nn.Linear(1,1)"
      ],
      "metadata": {
        "id": "09Y7oY0cPIaU"
      },
      "execution_count": 13,
      "outputs": []
    },
    {
      "cell_type": "code",
      "source": [
        "#Cost/Loss and Optimizer\n",
        "criterion = nn.MSELoss()\n",
        "Optimizer = torch.optim.SGD(model.parameters(),lr=0.1)"
      ],
      "metadata": {
        "id": "N9Kp22W8PXai"
      },
      "execution_count": 14,
      "outputs": []
    }
  ]
}